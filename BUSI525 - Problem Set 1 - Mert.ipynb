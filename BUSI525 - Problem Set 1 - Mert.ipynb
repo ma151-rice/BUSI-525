{
 "cells": [
  {
   "cell_type": "markdown",
   "metadata": {},
   "source": [
    "Problem Set 1  - Mert Akman\n",
    "BUSI 525"
   ]
  },
  {
   "cell_type": "code",
   "execution_count": 1,
   "metadata": {},
   "outputs": [],
   "source": [
    "#Simulation Part 0  \n",
    "import numpy as np\n",
    "import pandas as pd\n",
    "import statsmodels.api as sm\n",
    "from scipy import stats\n",
    "import matplotlib.pyplot as plt\n",
    "\n",
    "N = 1000 \n",
    "T = 120 \n",
    "mean_market = 0.05\n",
    "vol_market = 0.2 \n",
    "res_vol = 0.1 \n",
    "month_mean_market = mean_market / 12 \n",
    "month_std_market = vol_market / np.sqrt(12) \n",
    "month_res_vol = res_vol / np.sqrt(12) \n",
    "\n",
    "market_returns = np.random.normal(month_mean_market, month_std_market, T)\n",
    "\n"
   ]
  },
  {
   "cell_type": "code",
   "execution_count": 2,
   "metadata": {},
   "outputs": [
    {
     "name": "stdout",
     "output_type": "stream",
     "text": [
      "Number of funds that are skilled: \n"
     ]
    },
    {
     "data": {
      "text/plain": [
       "62"
      ]
     },
     "execution_count": 2,
     "metadata": {},
     "output_type": "execute_result"
    }
   ],
   "source": [
    "# Part 1.1\n",
    "beta = 1 \n",
    "alpha = 0 \n",
    "funds_data = {\n",
    "    'alpha': np.zeros(N),\n",
    "    't_stat': np.zeros(N),\n",
    "    'p_value': np.zeros(N)\n",
    "}\n",
    "# Simulation for each fund\n",
    "for i in range(N):\n",
    "    fund_returns = alpha + beta * market_returns + np.random.normal(0, month_std_market, T)\n",
    "    \n",
    "    X = sm.add_constant(market_returns)\n",
    "    \n",
    "    model = sm.OLS(fund_returns, X).fit()\n",
    "    \n",
    "    funds_data['alpha'][i] = model.params[0]\n",
    "    funds_data['t_stat'][i] = model.tvalues[0]\n",
    "    funds_data['p_value'][i] = model.pvalues[0]\n",
    "\n",
    "significant_alphas = np.sum(funds_data['p_value'] < 0.05)\n",
    "print(\"Number of funds that are skilled: \")\n",
    "significant_alphas\n"
   ]
  },
  {
   "cell_type": "code",
   "execution_count": 3,
   "metadata": {},
   "outputs": [
    {
     "data": {
      "image/png": "[encoded data removed]",
      "text/plain": [
       "<Figure size 720x432 with 1 Axes>"
      ]
     },
     "metadata": {
      "needs_background": "light"
     },
     "output_type": "display_data"
    }
   ],
   "source": [
    "# Part 1.2 - Plot the distribution of t-stats for alpha\n",
    "plt.figure(figsize=(10, 6))\n",
    "plt.hist(funds_data['t_stat'], bins=50, alpha=0.75)\n",
    "plt.xlabel('t-statistic')\n",
    "plt.ylabel('Frequency')\n",
    "plt.title('t-statistics for alpha')\n",
    "plt.show()\n",
    "\n"
   ]
  },
  {
   "cell_type": "code",
   "execution_count": 4,
   "metadata": {},
   "outputs": [
    {
     "data": {
      "image/png": "[encoded data removed]",
      "text/plain": [
       "<Figure size 720x432 with 1 Axes>"
      ]
     },
     "metadata": {
      "needs_background": "light"
     },
     "output_type": "display_data"
    }
   ],
   "source": [
    "# Part 1.2 - Plot the distribution of p-values for alpha\n",
    "plt.figure(figsize=(10, 6))\n",
    "plt.hist(funds_data['p_value'], bins=50, alpha=0.75)\n",
    "plt.xlabel('p-value')\n",
    "plt.ylabel('Frequency')\n",
    "plt.title('p-value for alpha')\n",
    "plt.show()"
   ]
  },
  {
   "cell_type": "markdown",
   "metadata": {},
   "source": [
    "Part 1.3 -- The distribution of p-values look like an uniform from 0 to 1. Each p-value is equally likely. Once I have the enough sample, I can conclude that each bin of the histogram should contain the same number of p-values. "
   ]
  },
  {
   "cell_type": "code",
   "execution_count": 5,
   "metadata": {},
   "outputs": [],
   "source": [
    "# Part 2.1 : Let's add some skill to the true underlying distribution\n",
    "# One Lambda \n",
    "N = 1000\n",
    "beta = 1 \n",
    "alpha = 0\n",
    "skilled_alpha = 0.05/12\n",
    "lambda_val = 0.1\n",
    "\n",
    "funds_data = {\n",
    "    'alpha': np.zeros(int(N*(1-lambda_val))),\n",
    "    't_stat': np.zeros(int(N*(1-lambda_val))),\n",
    "    'p_value': np.zeros(int(N*(1-lambda_val)))\n",
    "}\n",
    "\n",
    "funds_data_skilled = {\n",
    "    'alpha': np.zeros(int(N*lambda_val)),\n",
    "    't_stat': np.zeros(int(N*lambda_val)),\n",
    "    'p_value': np.zeros(int(N*lambda_val))\n",
    "}\n",
    "\n",
    "# Simulation for each fund\n",
    "for i in range(int(N*(1-lambda_val))):\n",
    "    fund_returns = alpha + beta * market_returns + np.random.normal(0, month_std_market, T)\n",
    "    \n",
    "    X = sm.add_constant(market_returns)\n",
    "    \n",
    "    model = sm.OLS(fund_returns, X).fit()\n",
    "    \n",
    "    funds_data['alpha'][i] = model.params[0]\n",
    "    funds_data['t_stat'][i] = model.tvalues[0]\n",
    "    funds_data['p_value'][i] = model.pvalues[0]\n",
    "\n",
    "for i in range(int(N*lambda_val)):\n",
    "    fund_returns = skilled_alpha + beta * market_returns + np.random.normal(0, month_std_market, T)\n",
    "    \n",
    "    X = sm.add_constant(market_returns)\n",
    "    \n",
    "    model = sm.OLS(fund_returns, X).fit()\n",
    "    \n",
    "    funds_data_skilled['alpha'][i] = model.params[0]\n",
    "    funds_data_skilled['t_stat'][i] = model.tvalues[0]\n",
    "    funds_data_skilled['p_value'][i] = model.pvalues[0]\n",
    "\n",
    "\n",
    "combined_data = (\n",
    "    np.concatenate((funds_data['alpha'], funds_data_skilled['alpha'])),\n",
    "    np.concatenate((funds_data['t_stat'], funds_data_skilled['t_stat'])),\n",
    "    np.concatenate((funds_data['p_value'], funds_data_skilled['p_value']))\n",
    ")\n",
    "\n",
    "\n"
   ]
  },
  {
   "cell_type": "code",
   "execution_count": 6,
   "metadata": {},
   "outputs": [],
   "source": [
    "# Define the significance level\n",
    "alpha_significance_level = 0.05\n",
    "\n",
    "# Calculate True Positives (TP) and False Negatives (FN)\n",
    "TP = np.sum(funds_data_skilled['p_value'] < alpha_significance_level)\n",
    "FN = np.sum(funds_data_skilled['p_value'] >= alpha_significance_level)\n",
    "\n",
    "# Calculate False Positives (FP) and True Negatives (TN)\n",
    "FP = np.sum(funds_data['p_value'] < alpha_significance_level)\n",
    "TN = np.sum(funds_data['p_value'] >= alpha_significance_level)\n",
    "\n",
    "# Calculate the total number of skilled and unskilled funds\n",
    "total_skilled = int(N*lambda_val)\n",
    "total_unskilled = N - total_skilled\n"
   ]
  },
  {
   "cell_type": "code",
   "execution_count": 7,
   "metadata": {},
   "outputs": [
    {
     "name": "stdout",
     "output_type": "stream",
     "text": [
      "Lambda value: 0.1\n",
      "True Positives (Skilled funds correctly identified): 13 (1.30%)\n",
      "False Negatives (Skilled funds not identified): 87 (8.70%)\n",
      "False Positives (Unskilled funds incorrectly identified as skilled): 50 (5.00%)\n",
      "True Negatives (Unskilled funds correctly identified as unskilled): 850 (85.00%)\n"
     ]
    },
    {
     "data": {
      "image/png": "[encoded data removed]",
      "text/plain": [
       "<Figure size 720x432 with 1 Axes>"
      ]
     },
     "metadata": {
      "needs_background": "light"
     },
     "output_type": "display_data"
    },
    {
     "name": "stdout",
     "output_type": "stream",
     "text": [
      "Lambda value: 0.25\n",
      "True Positives (Skilled funds correctly identified): 26 (2.60%)\n",
      "False Negatives (Skilled funds not identified): 224 (22.40%)\n",
      "False Positives (Unskilled funds incorrectly identified as skilled): 36 (3.60%)\n",
      "True Negatives (Unskilled funds correctly identified as unskilled): 714 (71.40%)\n"
     ]
    },
    {
     "data": {
      "image/png": "[encoded data removed]",
      "text/plain": [
       "<Figure size 720x432 with 1 Axes>"
      ]
     },
     "metadata": {
      "needs_background": "light"
     },
     "output_type": "display_data"
    },
    {
     "name": "stdout",
     "output_type": "stream",
     "text": [
      "Lambda value: 0.5\n",
      "True Positives (Skilled funds correctly identified): 71 (7.10%)\n",
      "False Negatives (Skilled funds not identified): 429 (42.90%)\n",
      "False Positives (Unskilled funds incorrectly identified as skilled): 23 (2.30%)\n",
      "True Negatives (Unskilled funds correctly identified as unskilled): 477 (47.70%)\n"
     ]
    },
    {
     "data": {
      "image/png": "[encoded data removed]",
      "text/plain": [
       "<Figure size 720x432 with 1 Axes>"
      ]
     },
     "metadata": {
      "needs_background": "light"
     },
     "output_type": "display_data"
    },
    {
     "name": "stdout",
     "output_type": "stream",
     "text": [
      "Lambda value: 0.75\n",
      "True Positives (Skilled funds correctly identified): 89 (8.90%)\n",
      "False Negatives (Skilled funds not identified): 661 (66.10%)\n",
      "False Positives (Unskilled funds incorrectly identified as skilled): 13 (1.30%)\n",
      "True Negatives (Unskilled funds correctly identified as unskilled): 237 (23.70%)\n"
     ]
    },
    {
     "data": {
      "image/png": "[encoded data removed]",
      "text/plain": [
       "<Figure size 720x432 with 1 Axes>"
      ]
     },
     "metadata": {
      "needs_background": "light"
     },
     "output_type": "display_data"
    }
   ],
   "source": [
    "import numpy as np\n",
    "import statsmodels.api as sm\n",
    "import matplotlib.pyplot as plt\n",
    "\n",
    "# Part 2.1 and 2.2 : Main\n",
    "# Lambda in a loop\n",
    "\n",
    "lambda_values = [0.1, 0.25, 0.5, 0.75]\n",
    "N = 1000\n",
    "beta = 1 \n",
    "alpha = 0\n",
    "skilled_alpha = 0.05/12\n",
    "T = 120  # Assuming T is defined as the number of time periods\n",
    "\n",
    "for lambda_val in lambda_values:\n",
    "    # Data structures for unskilled funds\n",
    "    funds_data = {\n",
    "        'alpha': np.zeros(int(N*(1-lambda_val))),\n",
    "        't_stat': np.zeros(int(N*(1-lambda_val))),\n",
    "        'p_value': np.zeros(int(N*(1-lambda_val)))\n",
    "    }\n",
    "\n",
    "    # Data structures for skilled funds\n",
    "    funds_data_skilled = {\n",
    "        'alpha': np.zeros(int(N*lambda_val)),\n",
    "        't_stat': np.zeros(int(N*lambda_val)),\n",
    "        'p_value': np.zeros(int(N*lambda_val))\n",
    "    }\n",
    "\n",
    "    # Simulation for unskilled funds\n",
    "    for i in range(int(N*(1-lambda_val))):\n",
    "        fund_returns = alpha + beta * market_returns + np.random.normal(0, month_std_market, T)\n",
    "        X = sm.add_constant(market_returns)\n",
    "        model = sm.OLS(fund_returns, X).fit()\n",
    "        funds_data['alpha'][i] = model.params[0]\n",
    "        funds_data['t_stat'][i] = model.tvalues[0]\n",
    "        funds_data['p_value'][i] = model.pvalues[0]\n",
    "\n",
    "    # Simulation for skilled funds\n",
    "    for i in range(int(N*lambda_val)):\n",
    "        fund_returns = skilled_alpha + beta * market_returns + np.random.normal(0, month_std_market, T)\n",
    "        X = sm.add_constant(market_returns)\n",
    "        model = sm.OLS(fund_returns, X).fit()\n",
    "        funds_data_skilled['alpha'][i] = model.params[0]\n",
    "        funds_data_skilled['t_stat'][i] = model.tvalues[0]\n",
    "        funds_data_skilled['p_value'][i] = model.pvalues[0]\n",
    "\n",
    "    # Pool the data for both unskilled and skilled\n",
    "    combined_data = (\n",
    "        np.concatenate((funds_data['alpha'], funds_data_skilled['alpha'])),\n",
    "        np.concatenate((funds_data['t_stat'], funds_data_skilled['t_stat'])),\n",
    "        np.concatenate((funds_data['p_value'], funds_data_skilled['p_value']))\n",
    "    )\n",
    "\n",
    "    total_skilled = int(N*lambda_val)\n",
    "    total_unskilled = N - total_skilled\n",
    "\n",
    "    #Confusion Matrix\n",
    "    # True Positives (TP) and False Negatives (FN)\n",
    "    TP = np.sum(funds_data_skilled['p_value'] < alpha_significance_level)\n",
    "    FN = np.sum(funds_data_skilled['p_value'] >= alpha_significance_level)\n",
    "    # False Positives (FP) and True Negatives (TN)\n",
    "    FP = np.sum(funds_data['p_value'] < alpha_significance_level)\n",
    "    TN = np.sum(funds_data['p_value'] >= alpha_significance_level)\n",
    "    \n",
    "    \n",
    "    print(f\"Lambda value: {lambda_val}\")\n",
    "    print(f\"True Positives (Skilled funds correctly identified): {TP} ({TP/(total_skilled+total_unskilled):.2%})\")\n",
    "    print(f\"False Negatives (Skilled funds not identified): {FN} ({FN/(total_skilled+total_unskilled):.2%})\")\n",
    "    print(f\"False Positives (Unskilled funds incorrectly identified as skilled): {FP} ({FP/(total_skilled+total_unskilled):.2%})\")\n",
    "    print(f\"True Negatives (Unskilled funds correctly identified as unskilled): {TN} ({TN/(total_skilled+total_unskilled):.2%})\")\n",
    "\n",
    "    \n",
    "    plt.figure(figsize=(10, 6))\n",
    "    plt.hist(combined_data[2], bins=50)\n",
    "    plt.xlabel('p-value')\n",
    "    plt.ylabel('Frequency')\n",
    "    plt.title(f'Distribution of p-values for alpha (lambda = {lambda_val})')\n",
    "    plt.show()\n",
    "\n",
    "\n",
    "\n",
    "    \n"
   ]
  },
  {
   "cell_type": "markdown",
   "metadata": {},
   "source": [
    "As we increase the lambda, we can conclude that the p-distribution becomes slightly more rightly skewed. As we increase the lambda parameter, we are more likely to reject the null that investor is not skilled which is consistent with our initial assumption. "
   ]
  }
 ],
 "metadata": {
  "kernelspec": {
   "display_name": "Python 3",
   "language": "python",
   "name": "python3"
  },
  "language_info": {
   "codemirror_mode": {
    "name": "ipython",
    "version": 3
   },
   "file_extension": ".py",
   "mimetype": "text/x-python",
   "name": "python",
   "nbconvert_exporter": "python",
   "pygments_lexer": "ipython3",
   "version": "3.10.6"
  }
 },
 "nbformat": 4,
 "nbformat_minor": 2
}
